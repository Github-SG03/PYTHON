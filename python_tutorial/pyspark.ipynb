{
 "cells": [
  {
   "cell_type": "markdown",
   "id": "306e0421",
   "metadata": {},
   "source": [
    "Initialise The PySpark Environment"
   ]
  },
  {
   "cell_type": "code",
   "execution_count": null,
   "id": "dc6d59cd",
   "metadata": {},
   "outputs": [],
   "source": [
    "# Create and initialise a PySpark session using the PySpark API\n",
    "import os\n",
    "from pyspark.sql import SparkSession # type: ignore\n",
    "from pyspark.sql.types import StringType,IntegerType,StructType,StructField # type: ignore\n",
    "spark = SparkSession.builder.appName(\"MyPySparkAutomatic\").getOrCreate()\n",
    "\n",
    "# Your PySpark session is now created and you can use it to read data, perform transformations, and write data.\n",
    "print(\"SparkSession created successfully!\")\n",
    "\n",
    "\n"
   ]
  },
  {
   "cell_type": "markdown",
   "id": "39a3babb",
   "metadata": {},
   "source": [
    "Read The CSV Data(DataFrame: flight_df_1)"
   ]
  },
  {
   "cell_type": "code",
   "execution_count": null,
   "id": "44c014f3",
   "metadata": {},
   "outputs": [],
   "source": [
    "# Read the CSV file into a Spark DataFrame\n",
    "file_path = r\"C:\\Users\\Shivam Gupta\\OneDrive\\Documents\\Shivam_Developement\\PYTHON\\python_tutorial\\2015-summary.csv\"\n",
    "flight_df_1 = spark.read.format(\"csv\") \\\n",
    "\t.option(\"header\", \"true\") \\\n",
    "\t.option(\"inferSchema\", \"true\") \\\n",
    "\t.option(\"mode\", \"PERMISSIVE\") \\\n",
    "\t.load(file_path)\n",
    "\n",
    "# Show the DataFrame\n",
    "flight_df_1.show(n=flight_df_1.count(), truncate=False)\n",
    "\n",
    "#Show the total number of rows in the DataFrame\n",
    "print(\"Total number of rows in the DataFrame:\", flight_df_1.count())\n",
    "\n",
    "# Print the schema of the DataFrame\n",
    "flight_df_1.printSchema()"
   ]
  },
  {
   "cell_type": "markdown",
   "id": "7e9ca031",
   "metadata": {},
   "source": [
    "Create The Manual Schema(DataFrame: flight_df_2)"
   ]
  },
  {
   "cell_type": "code",
   "execution_count": null,
   "id": "f48e84f3",
   "metadata": {},
   "outputs": [],
   "source": [
    "\n",
    "# File paths\n",
    "file_path_0 = r\"C:\\Users\\Shivam Gupta\\OneDrive\\Documents\\Shivam_Developement\\PYTHON\\python_tutorial\"\n",
    "file_path_1 = os.path.join(file_path_0, \"2015-summary.csv\")\n",
    "file_path_2 = os.path.join(file_path_0, \"bad_records\")\n",
    "\n",
    "# Create a Manual schema for the DataFrame\n",
    "my_schema = StructType([StructField(\"COUNTRY_1\", StringType(), True),\n",
    "                        StructField(\"COUNTRY_2\", StringType(), True),\n",
    "                        StructField(\"TOTAL_COUNT\", IntegerType(), True),\n",
    "                        StructField(\"_corrupt_record\", StringType(), True)\n",
    "                        ])\n",
    "                        \n",
    "# Read the CSV file into a Spark DataFrame with the manual schema\n",
    "# Read CSV with schema and capture bad records\n",
    "flight_df_2 = spark.read.format(\"csv\") \\\n",
    "    .option(\"header\", \"true\") \\\n",
    "    .schema(my_schema) \\\n",
    "    .option(\"mode\", \"PERMISSIVE\") \\\n",
    "    .load(file_path_1)\n",
    "\n",
    "#Shows the dataframe with bad records\n",
    "flight_df_2.show(n=flight_df_2.count(), truncate=False)\n",
    "\n",
    "# Filter and write bad records manually\n",
    "bad_df = flight_df_2.filter(\"`_corrupt_record` IS NOT NULL\")\n",
    "bad_df.write.mode(\"overwrite\").json(file_path_2)\n",
    "\n",
    "\n",
    "# List the contents of the directory\n",
    "import os\n",
    "print(\"Contents of the bad records directory:\")\n",
    "if os.path.exists(file_path_2):\n",
    "    for item in os.listdir(file_path_2):\n",
    "        print(item)\n",
    "else:\n",
    "    print(\"No bad records directory found.\")\n",
    "\n"
   ]
  },
  {
   "cell_type": "markdown",
   "id": "700aff0f",
   "metadata": {},
   "source": [
    "How to read json file in pyspark(DataFrame: people_df)"
   ]
  },
  {
   "cell_type": "code",
   "execution_count": null,
   "id": "fb22b0b3",
   "metadata": {},
   "outputs": [],
   "source": [
    "# File paths\n",
    "file_path_0 = r\"C:\\Users\\Shivam Gupta\\OneDrive\\Documents\\Shivam_Developement\\PYTHON\\python_tutorial\"\n",
    "file_path_1 = os.path.join(file_path_0, \"2015-summary.csv\")\n",
    "file_path_2 = os.path.join(file_path_0, \"bad_records\")\n",
    "file_path_3 = os.path.join(file_path_0, \"multiline.json\")\n",
    "\n",
    "people_df=spark.read.format(\"json\") \\\n",
    "    .option(\"header\", \"true\") \\\n",
    "    .option(\"inferSchema\", \"true\") \\\n",
    "    .option(\"multiline\", \"true\") \\\n",
    "    .option(\"mode\", \"PERMISSIVE\") \\\n",
    "    .load(file_path_3)\n",
    "# Show the DataFrame\n",
    "people_df.show(n=people_df.count(), truncate=False)\n",
    "# Show the total number of rows in the DataFrame\n",
    "people_df.count()\n",
    "\n"
   ]
  },
  {
   "cell_type": "markdown",
   "id": "614b7afd",
   "metadata": {},
   "source": [
    "How to read Parquet file in pyspark(DataFrame: people_df_2)"
   ]
  },
  {
   "cell_type": "code",
   "execution_count": null,
   "id": "f1038bae",
   "metadata": {},
   "outputs": [],
   "source": [
    "file_path_0 = r\"C:\\Users\\Shivam Gupta\\OneDrive\\Documents\\Shivam_Developement\\PYTHON\\python_tutorial\"\n",
    "file_path_4 = os.path.join(file_path_0, \"part-r-00000-1a9822ba-b8fb-4d8e-844a-ea30d0801b9e.gz.parquet\")\n",
    "\n",
    "parquet_df = spark.read.format(\"parquet\") \\\n",
    "    .load(file_path_4)\n",
    "# Show the DataFrame\n",
    "parquet_df.show(n=parquet_df.count(), truncate=False)\n",
    "# Show the total number of rows in the DataFrame\n",
    "print(\"Total number of rows in the DataFrame:\", parquet_df.count())\n"
   ]
  },
  {
   "cell_type": "markdown",
   "id": "7e7eecdf",
   "metadata": {},
   "source": [
    "Finding Metadata Information In Parquet File"
   ]
  },
  {
   "cell_type": "code",
   "execution_count": null,
   "id": "ffbfd6d1",
   "metadata": {},
   "outputs": [],
   "source": [
    "########################################################################################################################################################\n",
    "import pandas as pd\n",
    "import pyarrow.parquet as pq\n",
    "\n",
    "# Path to your .parquet file\n",
    "file_path = r\"C:\\Users\\Shivam Gupta\\OneDrive\\Documents\\Shivam_Developement\\PYTHON\\python_tutorial\\part-r-00000-1a9822ba-b8fb-4d8e-844a-ea30d0801b9e.gz.parquet\"\n",
    "\n",
    "try:\n",
    "    # Read the whole Parquet file\n",
    "    df = pd.read_parquet(file_path, engine=\"pyarrow\")\n",
    "\n",
    "    # ✅ Display all rows and columns\n",
    "    with pd.option_context('display.max_rows', None, 'display.max_columns', None):\n",
    "        print(df)\n",
    "\n",
    "    # 🔽 Optionally, export to CSV for easier viewing\n",
    "    #output_csv = file_path.replace(\".parquet\", \".csv\")\n",
    "    #df.to_csv(output_csv, index=False)\n",
    "    #print(f\"\\n✅ Full data exported to: {output_csv}\")\n",
    "\n",
    "except Exception as e:\n",
    "    print(\"❌ Error reading Parquet file:\")\n",
    "    print(e)\n",
    "\n",
    "\n",
    "\n",
    "# Load the Parquet file\n",
    "parquet_file = pq.ParquetFile(\n",
    "    r\"C:\\Users\\Shivam Gupta\\OneDrive\\Documents\\Shivam_Developement\\PYTHON\\python_tutorial\\part-r-00000-1a9822ba-b8fb-4d8e-844a-ea30d0801b9e.gz.parquet\"\n",
    ")\n",
    "\n",
    "print(\"File metadata:\")\n",
    "print(parquet_file.metadata)\n",
    "\n",
    "print(\"\\nFirst row group metadata:\")\n",
    "print(parquet_file.metadata.row_group(0))\n",
    "\n",
    "print(\"\\nFirst column in first row group:\")\n",
    "print(parquet_file.metadata.row_group(0).column(0))\n",
    "\n",
    "print(\"\\nColumn statistics:\")\n",
    "print(parquet_file.metadata.row_group(0).column(0).statistics)\n",
    "\n"
   ]
  },
  {
   "cell_type": "markdown",
   "id": "3d9248a9",
   "metadata": {},
   "source": [
    "How To Write Dataframe on disk(dataframe:parquet_df)"
   ]
  },
  {
   "cell_type": "code",
   "execution_count": null,
   "id": "168f403f",
   "metadata": {},
   "outputs": [],
   "source": [
    "file_path_0 = r\"C:\\Users\\Shivam Gupta\\OneDrive\\Documents\\Shivam_Developement\\PYTHON\\python_tutorial\"\n",
    "file_path_4 = os.path.join(file_path_0, \"part-r-00000-1a9822ba-b8fb-4d8e-844a-ea30d0801b9e.gz.parquet\")\n",
    "# Example: Write the parquet_df DataFrame to Parquet format\n",
    "parquet_df.repartition(2).write.format(\"csv\") \\\n",
    "    .mode(\"overwrite\") \\\n",
    "    .partitionBy(\"DEST_COUNTRY_NAME\") \\\n",
    "    .save(os.path.join(file_path_0, \"parquet_df_write_repartioned_2\"))\n"
   ]
  },
  {
   "cell_type": "markdown",
   "id": "c2d1679d",
   "metadata": {},
   "source": [
    "Implementing Partitioning & Bucketing in Pyspark"
   ]
  },
  {
   "cell_type": "code",
   "execution_count": null,
   "id": "9ee3e88b",
   "metadata": {},
   "outputs": [],
   "source": [
    "parquet_df.write.format(\"csv\") \\\n",
    "    .mode(\"overwrite\") \\\n",
    "    .partitionBy(\"DEST_COUNTRY_NAME\") \\\n",
    "    .save(os.path.join(file_path_0, \"parquet_df_write_partition_by:Example\"))\n"
   ]
  },
  {
   "cell_type": "markdown",
   "id": "c4007110",
   "metadata": {},
   "source": []
  }
 ],
 "metadata": {
  "kernelspec": {
   "display_name": "Python 3",
   "language": "python",
   "name": "python3"
  },
  "language_info": {
   "codemirror_mode": {
    "name": "ipython",
    "version": 3
   },
   "file_extension": ".py",
   "mimetype": "text/x-python",
   "name": "python",
   "nbconvert_exporter": "python",
   "pygments_lexer": "ipython3",
   "version": "3.11.0"
  }
 },
 "nbformat": 4,
 "nbformat_minor": 5
}
