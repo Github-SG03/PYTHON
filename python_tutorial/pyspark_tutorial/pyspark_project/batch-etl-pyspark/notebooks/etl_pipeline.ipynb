{
 "cells": [
  {
   "cell_type": "code",
   "execution_count": null,
   "id": "579d677b",
   "metadata": {},
   "outputs": [],
   "source": [
    "from config.settings import get_spark_session\n",
    "from src.read_data import read_csv_data\n",
    "from src.transform_data import transform\n",
    "from src.write_data import write_parquet_data\n",
    "\n",
    "spark = get_spark_session()\n",
    "\n",
    "# Read\n",
    "input_path = \"../data/input/customers.csv\"\n",
    "df = read_csv_data(spark, input_path)\n",
    "\n",
    "# Transform\n",
    "transformed_df = transform(df)\n",
    "\n",
    "# Write\n",
    "output_path = \"../data/output/customers_transformed\"\n",
    "write_parquet_data(transformed_df, output_path)\n",
    "\n",
    "# Show result\n",
    "transformed_df.show()\n"
   ]
  }
 ],
 "metadata": {
  "kernelspec": {
   "display_name": "Python 3",
   "language": "python",
   "name": "python3"
  },
  "language_info": {
   "name": "python",
   "version": "3.11.0"
  }
 },
 "nbformat": 4,
 "nbformat_minor": 5
}
