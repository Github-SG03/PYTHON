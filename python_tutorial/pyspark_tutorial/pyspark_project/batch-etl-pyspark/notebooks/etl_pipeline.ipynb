{
 "cells": [
  {
   "cell_type": "code",
   "execution_count": null,
   "id": "579d677b",
   "metadata": {},
   "outputs": [],
   "source": [
    "from pyspark.sql import SparkSession\n",
    "from scripts.extract import extract_data\n",
    "from scripts.transform import clean_data\n",
    "\n",
    "spark = SparkSession.builder.getOrCreate()\n",
    "\n",
    "# Load and clean data in the notebook\n",
    "df = extract_data(\"data/raw/input.csv\")\n",
    "cleaned_df = clean_data(df)\n",
    "\n",
    "cleaned_df.show()\n"
   ]
  }
 ],
 "metadata": {
  "kernelspec": {
   "display_name": "Python 3",
   "language": "python",
   "name": "python3"
  },
  "language_info": {
   "name": "python",
   "version": "3.11.0"
  }
 },
 "nbformat": 4,
 "nbformat_minor": 5
}
