{
 "cells": [
  {
   "cell_type": "markdown",
   "id": "306e0421",
   "metadata": {},
   "source": [
    "Initialise The PySpark Environment"
   ]
  },
  {
   "cell_type": "code",
   "execution_count": 4,
   "id": "dc6d59cd",
   "metadata": {},
   "outputs": [
    {
     "name": "stdout",
     "output_type": "stream",
     "text": [
      "SparkSession created successfully!\n"
     ]
    }
   ],
   "source": [
    "import findspark\n",
    "from pyspark.sql import SparkSession\n",
    "\n",
    "findspark.init()\n",
    "\n",
    "spark = SparkSession.builder.appName(\"MyPySparkAutomatic\").getOrCreate()\n",
    "\n",
    "print(\"SparkSession created successfully!\")\n",
    "\n",
    "# Your PySpark code can follow"
   ]
  },
  {
   "cell_type": "markdown",
   "id": "39a3babb",
   "metadata": {},
   "source": [
    "Read The CSV Data"
   ]
  },
  {
   "cell_type": "code",
   "execution_count": 5,
   "id": "44c014f3",
   "metadata": {},
   "outputs": [
    {
     "name": "stdout",
     "output_type": "stream",
     "text": [
      "+-------+---+--------+\n",
      "|   name|age|    city|\n",
      "+-------+---+--------+\n",
      "|  Alice| 30|New York|\n",
      "|    Bob| 25|  London|\n",
      "|Charlie| 35|   Paris|\n",
      "|  David| 28|New York|\n",
      "|    Eve| 32|  London|\n",
      "+-------+---+--------+\n",
      "\n",
      "root\n",
      " |-- name: string (nullable = true)\n",
      " |-- age: integer (nullable = true)\n",
      " |-- city: string (nullable = true)\n",
      "\n"
     ]
    }
   ],
   "source": [
    "# Read the CSV file into a Spark DataFrame\n",
    "file_path = 'sample_data.csv'\n",
    "df = spark.read.csv(file_path, header=True, inferSchema=True)\n",
    "\n",
    "# Show the DataFrame\n",
    "df.show()\n",
    "\n",
    "# Print the schema of the DataFrame\n",
    "df.printSchema()"
   ]
  },
  {
   "cell_type": "markdown",
   "id": "a927000d",
   "metadata": {},
   "source": [
    "Perform a Transformation (Filtering and Selecting)"
   ]
  },
  {
   "cell_type": "code",
   "execution_count": 6,
   "id": "f48e84f3",
   "metadata": {},
   "outputs": [
    {
     "name": "stdout",
     "output_type": "stream",
     "text": [
      "+-----+---+\n",
      "| name|age|\n",
      "+-----+---+\n",
      "|Alice| 30|\n",
      "|David| 28|\n",
      "+-----+---+\n",
      "\n",
      "root\n",
      " |-- name: string (nullable = true)\n",
      " |-- age: integer (nullable = true)\n",
      "\n"
     ]
    }
   ],
   "source": [
    "# Filter for people in New York\n",
    "new_york_df = df.filter(df['city'] == 'New York')\n",
    "\n",
    "# Select only the name and age columns\n",
    "name_age_ny_df = new_york_df.select('name', 'age')\n",
    "\n",
    "# Show the transformed DataFrame\n",
    "name_age_ny_df.show()\n",
    "\n",
    "# Print the schema of the transformed DataFrame\n",
    "name_age_ny_df.printSchema()"
   ]
  }
 ],
 "metadata": {
  "kernelspec": {
   "display_name": "Python 3",
   "language": "python",
   "name": "python3"
  },
  "language_info": {
   "codemirror_mode": {
    "name": "ipython",
    "version": 3
   },
   "file_extension": ".py",
   "mimetype": "text/x-python",
   "name": "python",
   "nbconvert_exporter": "python",
   "pygments_lexer": "ipython3",
   "version": "3.11.0"
  }
 },
 "nbformat": 4,
 "nbformat_minor": 5
}
