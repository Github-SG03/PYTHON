{
 "cells": [
  {
   "cell_type": "markdown",
   "metadata": {},
   "source": [
    "### DATA READING"
   ]
  },
  {
   "cell_type": "code",
   "execution_count": 1,
   "metadata": {},
   "outputs": [
    {
     "name": "stdout",
     "output_type": "stream",
     "text": [
      "CSV Data:\n",
      "+---------------+-----------+----------------+---------------+---------------------+--------+-----------------+-------------------------+-----------+--------------------+-----------------+-----------------+\n",
      "|Item_Identifier|Item_Weight|Item_Fat_Content|Item_Visibility|Item_Type            |Item_MRP|Outlet_Identifier|Outlet_Establishment_Year|Outlet_Size|Outlet_Location_Type|Outlet_Type      |Item_Outlet_Sales|\n",
      "+---------------+-----------+----------------+---------------+---------------------+--------+-----------------+-------------------------+-----------+--------------------+-----------------+-----------------+\n",
      "|FDA15          |9.3        |Low Fat         |0.016047301    |Dairy                |249.8092|OUT049           |1999                     |Medium     |Tier 1              |Supermarket Type1|3735.138         |\n",
      "|DRC01          |5.92       |Regular         |0.019278216    |Soft Drinks          |48.2692 |OUT018           |2009                     |Medium     |Tier 3              |Supermarket Type2|443.4228         |\n",
      "|FDN15          |17.5       |Low Fat         |0.016760075    |Meat                 |141.618 |OUT049           |1999                     |Medium     |Tier 1              |Supermarket Type1|2097.27          |\n",
      "|FDX07          |19.2       |Regular         |0.0            |Fruits and Vegetables|182.095 |OUT010           |1998                     |NULL       |Tier 3              |Grocery Store    |732.38           |\n",
      "|NCD19          |8.93       |Low Fat         |0.0            |Household            |53.8614 |OUT013           |1987                     |High       |Tier 3              |Supermarket Type1|994.7052         |\n",
      "|FDP36          |10.395     |Regular         |0.0            |Baking Goods         |51.4008 |OUT018           |2009                     |Medium     |Tier 3              |Supermarket Type2|556.6088         |\n",
      "|FDO10          |13.65      |Regular         |0.012741089    |Snack Foods          |57.6588 |OUT013           |1987                     |High       |Tier 3              |Supermarket Type1|343.5528         |\n",
      "|FDP10          |NULL       |Low Fat         |0.127469857    |Snack Foods          |107.7622|OUT027           |1985                     |Medium     |Tier 3              |Supermarket Type3|4022.7636        |\n",
      "|FDH17          |16.2       |Regular         |0.016687114    |Frozen Foods         |96.9726 |OUT045           |2002                     |NULL       |Tier 2              |Supermarket Type1|1076.5986        |\n",
      "|FDU28          |19.2       |Regular         |0.09444959     |Frozen Foods         |187.8214|OUT017           |2007                     |NULL       |Tier 2              |Supermarket Type1|4710.535         |\n",
      "|FDY07          |11.8       |Low Fat         |0.0            |Fruits and Vegetables|45.5402 |OUT049           |1999                     |Medium     |Tier 1              |Supermarket Type1|1516.0266        |\n",
      "|FDA03          |18.5       |Regular         |0.045463773    |Dairy                |144.1102|OUT046           |1997                     |Small      |Tier 1              |Supermarket Type1|2187.153         |\n",
      "|FDX32          |15.1       |Regular         |0.1000135      |Fruits and Vegetables|145.4786|OUT049           |1999                     |Medium     |Tier 1              |Supermarket Type1|1589.2646        |\n",
      "|FDS46          |17.6       |Regular         |0.047257328    |Snack Foods          |119.6782|OUT046           |1997                     |Small      |Tier 1              |Supermarket Type1|2145.2076        |\n",
      "|FDF32          |16.35      |Low Fat         |0.0680243      |Fruits and Vegetables|196.4426|OUT013           |1987                     |High       |Tier 3              |Supermarket Type1|1977.426         |\n",
      "|FDP49          |9.0        |Regular         |0.069088961    |Breakfast            |56.3614 |OUT046           |1997                     |Small      |Tier 1              |Supermarket Type1|1547.3192        |\n",
      "|NCB42          |11.8       |Low Fat         |0.008596051    |Health and Hygiene   |115.3492|OUT018           |2009                     |Medium     |Tier 3              |Supermarket Type2|1621.8888        |\n",
      "|FDP49          |9.0        |Regular         |0.069196376    |Breakfast            |54.3614 |OUT049           |1999                     |Medium     |Tier 1              |Supermarket Type1|718.3982         |\n",
      "|DRI11          |NULL       |Low Fat         |0.034237682    |Hard Drinks          |113.2834|OUT027           |1985                     |Medium     |Tier 3              |Supermarket Type3|2303.668         |\n",
      "|FDU02          |13.35      |Low Fat         |0.10249212     |Dairy                |230.5352|OUT035           |2004                     |Small      |Tier 2              |Supermarket Type1|2748.4224        |\n",
      "+---------------+-----------+----------------+---------------+---------------------+--------+-----------------+-------------------------+-----------+--------------------+-----------------+-----------------+\n",
      "only showing top 20 rows\n",
      "\n",
      "JSON Data:\n",
      "+----+----------+--------+----------+---------------------+-----------+------+-----------------------------------------------------+\n",
      "|code|dob       |driverId|driverRef |name                 |nationality|number|url                                                  |\n",
      "+----+----------+--------+----------+---------------------+-----------+------+-----------------------------------------------------+\n",
      "|HAM |1985-01-07|1       |hamilton  |{Lewis, Hamilton}    |British    |44    |http://en.wikipedia.org/wiki/Lewis_Hamilton          |\n",
      "|HEI |1977-05-10|2       |heidfeld  |{Nick, Heidfeld}     |German     |\\N    |http://en.wikipedia.org/wiki/Nick_Heidfeld           |\n",
      "|ROS |1985-06-27|3       |rosberg   |{Nico, Rosberg}      |German     |6     |http://en.wikipedia.org/wiki/Nico_Rosberg            |\n",
      "|ALO |1981-07-29|4       |alonso    |{Fernando, Alonso}   |Spanish    |14    |http://en.wikipedia.org/wiki/Fernando_Alonso         |\n",
      "|KOV |1981-10-19|5       |kovalainen|{Heikki, Kovalainen} |Finnish    |\\N    |http://en.wikipedia.org/wiki/Heikki_Kovalainen       |\n",
      "|NAK |1985-01-11|6       |nakajima  |{Kazuki, Nakajima}   |Japanese   |\\N    |http://en.wikipedia.org/wiki/Kazuki_Nakajima         |\n",
      "|BOU |1979-02-28|7       |bourdais  |{Sébastien, Bourdais}|French     |\\N    |http://en.wikipedia.org/wiki/S%C3%A9bastien_Bourdais |\n",
      "|RAI |1979-10-17|8       |raikkonen |{Kimi, Räikkönen}    |Finnish    |7     |http://en.wikipedia.org/wiki/Kimi_R%C3%A4ikk%C3%B6nen|\n",
      "|KUB |1984-12-07|9       |kubica    |{Robert, Kubica}     |Polish     |88    |http://en.wikipedia.org/wiki/Robert_Kubica           |\n",
      "|GLO |1982-03-18|10      |glock     |{Timo, Glock}        |German     |\\N    |http://en.wikipedia.org/wiki/Timo_Glock              |\n",
      "|SAT |1977-01-28|11      |sato      |{Takuma, Sato}       |Japanese   |\\N    |http://en.wikipedia.org/wiki/Takuma_Sato             |\n",
      "|PIQ |1985-07-25|12      |piquet_jr |{Nelson, Piquet Jr.} |Brazilian  |\\N    |http://en.wikipedia.org/wiki/Nelson_Piquet,_Jr.      |\n",
      "|MAS |1981-04-25|13      |massa     |{Felipe, Massa}      |Brazilian  |19    |http://en.wikipedia.org/wiki/Felipe_Massa            |\n",
      "|COU |1971-03-27|14      |coulthard |{David, Coulthard}   |British    |\\N    |http://en.wikipedia.org/wiki/David_Coulthard         |\n",
      "|TRU |1974-07-13|15      |trulli    |{Jarno, Trulli}      |Italian    |\\N    |http://en.wikipedia.org/wiki/Jarno_Trulli            |\n",
      "|SUT |1983-01-11|16      |sutil     |{Adrian, Sutil}      |German     |99    |http://en.wikipedia.org/wiki/Adrian_Sutil            |\n",
      "|WEB |1976-08-27|17      |webber    |{Mark, Webber}       |Australian |\\N    |http://en.wikipedia.org/wiki/Mark_Webber             |\n",
      "|BUT |1980-01-19|18      |button    |{Jenson, Button}     |British    |22    |http://en.wikipedia.org/wiki/Jenson_Button           |\n",
      "|DAV |1979-04-18|19      |davidson  |{Anthony, Davidson}  |British    |\\N    |http://en.wikipedia.org/wiki/Anthony_Davidson        |\n",
      "|VET |1987-07-03|20      |vettel    |{Sebastian, Vettel}  |German     |5     |http://en.wikipedia.org/wiki/Sebastian_Vettel        |\n",
      "+----+----------+--------+----------+---------------------+-----------+------+-----------------------------------------------------+\n",
      "only showing top 20 rows\n",
      "\n"
     ]
    }
   ],
   "source": [
    "from pyspark.sql import SparkSession\n",
    "\n",
    "# Initialize Spark Session\n",
    "spark = SparkSession.builder.appName(\"pyspark_tutorial\").getOrCreate()\n",
    "\n",
    "# Read CSV File\n",
    "df_csv = spark.read.format('csv').option('inferSchema', True)\\\n",
    "                  .option('header', True)\\\n",
    "                  .option('multiLine', False)\\\n",
    "                  .load(\"C:\\\\Users\\\\Shivam Gupta\\\\OneDrive\\\\Documents\\\\Shivam_Developement\\\\DATA_ENGINEERING\\\\pyspark\\\\BigMart Sales.csv\")\n",
    "\n",
    "print(\"CSV Data:\")\n",
    "df_csv.show(truncate=False)  # Display CSV Data\n",
    "\n",
    "# Read JSON File\n",
    "df_json = spark.read.format('json').option('inferSchema', True)\\\n",
    "                   .load(\"C:\\\\Users\\\\Shivam Gupta\\\\OneDrive\\\\Documents\\\\Shivam_Developement\\\\DATA_ENGINEERING\\\\pyspark\\\\drivers.json\")  # Ensure JSON file path is correct\n",
    "\n",
    "print(\"JSON Data:\")\n",
    "df_json.show(truncate=False)  # Display JSON Data\n"
   ]
  },
  {
   "cell_type": "code",
   "execution_count": null,
   "metadata": {},
   "outputs": [],
   "source": [
    "\n",
    "\n"
   ]
  }
 ],
 "metadata": {
  "kernelspec": {
   "display_name": "Python 3",
   "language": "python",
   "name": "python3"
  },
  "language_info": {
   "codemirror_mode": {
    "name": "ipython",
    "version": 3
   },
   "file_extension": ".py",
   "mimetype": "text/x-python",
   "name": "python",
   "nbconvert_exporter": "python",
   "pygments_lexer": "ipython3",
   "version": "3.11.0"
  }
 },
 "nbformat": 4,
 "nbformat_minor": 2
}
